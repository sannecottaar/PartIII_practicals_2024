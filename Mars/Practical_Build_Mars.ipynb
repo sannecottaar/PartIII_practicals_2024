{
 "cells": [
  {
   "cell_type": "markdown",
   "metadata": {},
   "source": [
    "#  Build a Planet using BurnMan"
   ]
  },
  {
   "cell_type": "markdown",
   "metadata": {},
   "source": [
    "Copyright (C) 2012 - 2021 by the BurnMan team, released under the GNU GPL v2 or later.\n",
    "Released under GPL v2 or later.\n"
   ]
  },
  {
   "cell_type": "markdown",
   "metadata": {},
   "source": [
    "\n",
    "\n",
    "For Earth we have well-constrained one-dimensional density models.  This allows us to\n",
    "calculate pressure as a function of depth.  Furthermore, petrologic data and assumptions\n",
    "regarding the convective state of the planet allow us to estimate the temperature.\n",
    "\n",
    "For planets other than Earth we have much less information, and in particular we\n",
    "know almost nothing about the pressure and temperature in the interior.  Instead, we tend\n",
    "to have measurements of things like mass, radius, and moment-of-inertia.  We would like\n",
    "to be able to make a model of the planet's interior that is consistent with those\n",
    "measurements.\n",
    "\n",
    "However, there is a difficulty with this.  In order to know the density of the planetary\n",
    "material, we need to know the pressure and temperature.  In order to know the pressure,\n",
    "we need to know the gravity profile.  And in order to the the gravity profile, we need\n",
    "to know the density.  This is a nonlinear problem which requires us to iterate to find\n",
    "a self-consistent solution.\n",
    "\n",
    "This example allows the user to define layers of planets of known outer radius and self-\n",
    "consistently solve for the density, pressure and gravity profiles. The calculation will\n",
    "iterate until the difference between central pressure calculations are less than 1e-5.\n",
    "The planet class in BurnMan (../burnman/planet.py) allows users to call multiple\n",
    "properties of the model planet after calculations, such as the mass of an individual layer,\n",
    "the total mass of the planet and the moment if inertia. See planets.py for information\n",
    "on each of the parameters which can be called.\n",
    "\n",
    "\n",
    "*Uses:*\n",
    "\n",
    "* :doc:`mineral_database`\n",
    "* :class:`burnman.planet.Planet`\n",
    "* :class: `burnman.layer.Layer`\n",
    "\n",
    "*Demonstrates:*\n",
    "\n",
    "* setting up a planet\n",
    "* computing its self-consistent state\n",
    "* computing various parameters for the planet\n",
    "* seismic comparison\n",
    "\n"
   ]
  },
  {
   "cell_type": "markdown",
   "metadata": {},
   "source": [
    "### Build Mars\n",
    "\n",
    "For Mars, we now have some seismic observations to add as additional constraint to the mantle structure, besides mass and moment-of-inertia. \n",
    "\n",
    "The setup below will build an earthlike planet. It is your goal to change this into Mars. \n",
    "\n",
    "Constraints you might need to think of:\n",
    " - What are the mass and moment-of-intertia for Mars? \n",
    " - Where is the core-mantle boundary on Mars? \n",
    " - Does Mars have an inner core? \n",
    " - Are Martian mantle pressures sufficient to have a lower mantle? \n",
    " - What sort of seismic constraints can be added for Mars?\n",
    " \n",
    " Steps to take:\n",
    " 1. Study the Earth model, and make improvements if you wish. \n",
    " 2. Collect constraints on Mars, some papers to look at are listed below. \n",
    " 3. Make a copy of this jupyter notebook for Mars, implement the new constraints. \n",
    " 4. Adapt the planet to fit Martian constraints. \n",
    " \n",
    "  - Seismic constraints on Mars' mantle: Khan, et al. , Upper mantle structure of Mars from InSight seismic data, Science, 373, 6553, (434-438), (2021).\n",
    "  - Seismic constraints on Mars' core: Stähler, et al., Seismic detection of the martian core, Science, 373, 6553, (443-448), (2021).\n",
    "  - Mars compositional model: Yoshizaki, T. and McDonough, W.F., 2021. Earth and Mars–distinct inner solar system products. Geochemistry, 81(2), p.125746.\n",
    "  \n"
   ]
  },
  {
   "cell_type": "markdown",
   "metadata": {},
   "source": [
    "### Imports\n",
    "Run the imports once"
   ]
  },
  {
   "cell_type": "code",
   "execution_count": 1,
   "metadata": {},
   "outputs": [
    {
     "name": "stdout",
     "output_type": "stream",
     "text": [
      "['./burnman_1.1', '/Users/sanne/Library/CloudStorage/GoogleDrive-sanne.cottaar@gmail.com/My Drive/Teaching/Part3_option_2023/Practical/Git_versions/Mars', '/Users/sanne/opt/anaconda3/envs/instaseis/lib/python38.zip', '/Users/sanne/opt/anaconda3/envs/instaseis/lib/python3.8', '/Users/sanne/opt/anaconda3/envs/instaseis/lib/python3.8/lib-dynload', '', '/Users/sanne/opt/anaconda3/envs/instaseis/lib/python3.8/site-packages', '/Users/sanne/opt/anaconda3/envs/instaseis/lib/python3.8/site-packages/IPython/extensions', '/Users/sanne/.ipython']\n",
      "Warning: No module named 'cvxpy'. For full functionality of BurnMan, please install cvxpy.\n",
      "Warning: No module named 'cdd'. For full functionality of BurnMan, please install pycddlib.\n",
      "Warning: No module named 'cvxpy'. For full functionality of BurnMan, please install cvxpy.\n",
      "1.1.0pre\n"
     ]
    }
   ],
   "source": [
    "%matplotlib inline\n",
    "import os,sys\n",
    "\n",
    "import matplotlib.pyplot as plt\n",
    "import numpy as np\n",
    "\n",
    "import warnings\n",
    "warnings.filterwarnings('ignore')\n",
    "\n",
    "if './burnman_1.1' not in sys.path:\n",
    "    sys.path.insert(0,'./burnman_1.1')\n",
    "print(sys.path)\n",
    "import burnman\n",
    "print(burnman.__version__)\n",
    "\n",
    "import obspy\n",
    "from obspy.taup import TauPyModel\n",
    "from obspy.taup import taup_create\n",
    "\n",
    "from burnman import Mineral, PerplexMaterial, Composite, Layer, Planet\n",
    "from burnman import minerals\n",
    "from burnman import Composition\n",
    "from burnman.tools.chemistry import formula_mass\n",
    "from burnman import BoundaryLayerPerturbation\n",
    "\n",
    "        "
   ]
  },
  {
   "cell_type": "markdown",
   "metadata": {},
   "source": [
    "### Defining Layers\n",
    "First, we must define the composition of the planet as individual layers.\n",
    "A layer is defined by 4 parameters: Name, min_depth, max_depth,and number of slices within the layer.\n",
    "Separately the composition and the temperature_mode need to set."
   ]
  },
  {
   "cell_type": "code",
   "execution_count": 10,
   "metadata": {},
   "outputs": [],
   "source": [
    "planet_radius = 3390.e3\n",
    "\n",
    "\n",
    "\n",
    "# Compositions from midpoints of Hirose et al. (2021), ignoring carbon and hydrogen\n",
    "inner_core_composition = Composition({'Fe': 94.4, 'Ni': 5., 'Si': 0.55, 'O': 0.05}, 'weight')\n",
    "outer_core_composition = Composition({'Fe': 90., 'Ni': 5., 'Si': 2., 'O': 3.}, 'weight')\n",
    "\n",
    "\n",
    "for c in [inner_core_composition, outer_core_composition]:\n",
    "    c.renormalize('atomic', 'total', 1.)\n",
    "\n",
    "inner_core_elemental_composition = dict(inner_core_composition.atomic_composition)\n",
    "outer_core_elemental_composition = dict(outer_core_composition.atomic_composition)\n",
    "inner_core_molar_mass = formula_mass(inner_core_elemental_composition)\n",
    "outer_core_molar_mass = formula_mass(outer_core_elemental_composition)\n",
    "\n",
    "### Inner Core\n",
    "icb_radius = 600.e3\n",
    "inner_core = Layer('inner core', radii=np.linspace(0., icb_radius, 21))\n",
    "\n",
    "\n",
    "# We don't have exact seismic models for such compositions, so modify a model for solid iron. \n",
    "# Note: no shear modulus is given for this model, which means our S wave velocity is set to zero in the inner core. \n",
    "# And our P wave velocity is the same as the bulk sound velocity. \n",
    "hcp_iron = minerals.SE_2015.hcp_iron()\n",
    "params = hcp_iron.params\n",
    "\n",
    "# This liquid iron's volume is modified to fit PREM\n",
    "params['name'] = 'modified solid iron'\n",
    "params['formula'] = inner_core_elemental_composition\n",
    "params['molar_mass'] = inner_core_molar_mass\n",
    "delta_V = 2.3e-7\n",
    "\n",
    "inner_core_material = Mineral(params=params,\n",
    "                              property_modifiers=[['linear',\n",
    "                                                   {'delta_E': 0.,\n",
    "                                                    'delta_S': 0.,\n",
    "                                                    'delta_V': delta_V}]])\n",
    "\n",
    "# check that the new inner core material does what we expect:\n",
    "hcp_iron.set_state(200.e9, 4000.)\n",
    "inner_core_material.set_state(200.e9, 4000.)\n",
    "assert np.abs(delta_V - (inner_core_material.V - hcp_iron.V)) < 1.e-12\n",
    "\n",
    "inner_core.set_material(inner_core_material)\n",
    "# Set adiabatic temperature profile\n",
    "inner_core.set_temperature_mode('adiabatic')\n",
    "\n",
    "\n",
    "### Outer Core\n",
    "cmb_radius = 1830.e3\n",
    "outer_core = Layer('outer core', radii=np.linspace(0, cmb_radius, 21))\n",
    "\n",
    "# This liquid iron's volume is modified to fit PREM\n",
    "liq_iron = minerals.SE_2015.liquid_iron()\n",
    "params = liq_iron.params\n",
    "\n",
    "params['name'] = 'modified liquid iron'\n",
    "params['formula'] = outer_core_elemental_composition\n",
    "params['molar_mass'] = outer_core_molar_mass\n",
    "delta_V = -0.0e-7\n",
    "outer_core_material = Mineral(params=params,\n",
    "                              property_modifiers=[['linear',\n",
    "                                                   {'delta_E': 0.,\n",
    "                                                    'delta_S': 0.,\n",
    "                                                    'delta_V': delta_V}]])\n",
    "\n",
    "# check that the new inner core material does what we expect:\n",
    "liq_iron.set_state(200.e9, 4000.)\n",
    "outer_core_material.set_state(200.e9, 4000.)\n",
    "assert np.abs(delta_V - (outer_core_material.V - liq_iron.V)) < 1.e-12\n",
    "\n",
    "outer_core.set_material(outer_core_material)\n",
    "# Set adiabatic temperature profile\n",
    "outer_core.set_temperature_mode('adiabatic')\n",
    "\n",
    "'''\n",
    "### Lower Mantle\n",
    "top_lm_radius = 2211.e3\n",
    "lower_mantle = burnman.Layer('lower mantle', radii = np.linspace(cmb_radius, top_lm_radius, 10))\n",
    "\n",
    "# A lower_mantle layer of bridgmanite:ferropericlase:Ca-pervoskite in 75:18:7 molar proportions\n",
    "# Perovksite (bridgmanite) solid solution\n",
    "frac_mg = 0.9\n",
    "frac_fe = 0.1\n",
    "frac_al = 0.00\n",
    "mg_fe_perovskite = minerals.SLB_2011.mg_fe_perovskite()\n",
    "mg_fe_perovskite.set_composition([frac_mg, frac_fe, frac_al])\n",
    "\n",
    "# Ferropericlase solid solution\n",
    "frac_mg = 0.8\n",
    "frac_fe = 0.2\n",
    "mg_fe_periclase = minerals.SLB_2011.ferropericlase()\n",
    "mg_fe_periclase.set_composition([frac_mg,frac_fe])\n",
    "    \n",
    "# Ca Perovskite\n",
    "ca_perovskite = minerals.SLB_2011.ca_perovskite()\n",
    "\n",
    "# Pyrolitic composition\n",
    "pyr_pv = 0.75\n",
    "pyr_fp = 0.18\n",
    "pyr_capv = 0.07\n",
    "pyrolitic_mantle = burnman.Composite(\n",
    "        [mg_fe_perovskite, mg_fe_periclase, ca_perovskite], [pyr_pv, pyr_fp, pyr_capv], name = 'Pyrolitic')\n",
    "\n",
    "\n",
    "# set lower mantle composition\n",
    "lower_mantle.set_material(pyrolitic_mantle)\n",
    "\n",
    "#An adiabatic profile with the top temperature taken from the layer above. \n",
    "# A perturbation is applied for the thermal boundary layer in the lowermost mantle. \n",
    "tbl_perturbation = BoundaryLayerPerturbation(radius_bottom=cmb_radius,\n",
    "                                             radius_top=top_lm_radius,\n",
    "                                             rayleigh_number=1.e7,\n",
    "                                             temperature_change=900.,\n",
    "                                             boundary_layer_ratio=40./900.)\n",
    "lower_mantle.set_temperature_mode('perturbed-adiabatic', tbl_perturbation.temperature(lower_mantle.radii))\n",
    "'''\n",
    "\n",
    "### Upper Mantle\n",
    "base_lithos_radius = 2790.e3\n",
    "upper_mantle = burnman.Layer('upper mantle', radii = np.linspace(cmb_radius, base_lithos_radius, 10))\n",
    "# This is a very simplified composition of olivine with 8% Fe. \n",
    "olivine= minerals.SLB_2011.mg_fe_olivine(molar_fractions=[0.85, 0.15])\n",
    "upper_mantle.set_material(olivine)\n",
    "# Adiabatic temperature profile\n",
    "tbl_perturbation = BoundaryLayerPerturbation(radius_bottom=cmb_radius,\n",
    "                                             radius_top=base_lithos_radius,\n",
    "                                             rayleigh_number=1.e6,\n",
    "                                             temperature_change=200.,\n",
    "                                             boundary_layer_ratio=200./600.)\n",
    "upper_mantle.set_temperature_mode('perturbed-adiabatic', tbl_perturbation.temperature(upper_mantle.radii))\n",
    "\n",
    "\n",
    "### Lithosphere\n",
    "moho_radius = 3340.e3\n",
    "# A very simplified composition of Olivine with 1-% Fe\n",
    "olivine_lithos = minerals.SLB_2011.mg_fe_olivine(molar_fractions=[0.89, 0.11])\n",
    "lithospheric_mantle = Layer('lithospheric mantle',\n",
    "                            radii=np.linspace(base_lithos_radius, moho_radius, 31))\n",
    "lithospheric_mantle.set_material(dunite)\n",
    "\n",
    "# A linear temperature profile\n",
    "lab_temperature = 1350.\n",
    "moho_temperature = 620.\n",
    "lithospheric_mantle.set_temperature_mode('user-defined',\n",
    "                                         np.linspace(lab_temperature,\n",
    "                                                     moho_temperature, 31))\n",
    "\n",
    "### Crust\n",
    "# A simple plagioclase composition\n",
    "andesine = minerals.SLB_2011.plagioclase(molar_fractions=[0.4, 0.6])\n",
    "crust = Layer('crust', radii=np.linspace(moho_radius, planet_radius, 11))\n",
    "crust.set_material(andesine)\n",
    "\n",
    "# A linear temperature profile\n",
    "surface_temperature = 300.\n",
    "crust.set_temperature_mode('user-defined',\n",
    "                           np.linspace(moho_temperature,\n",
    "                                       surface_temperature, 11))"
   ]
  },
  {
   "cell_type": "markdown",
   "metadata": {},
   "source": [
    "### Making a self-consistent planet\n",
    "Now we stitch the planet together"
   ]
  },
  {
   "cell_type": "code",
   "execution_count": 11,
   "metadata": {},
   "outputs": [
    {
     "name": "stdout",
     "output_type": "stream",
     "text": [
      "Planet_Zog consists of 4 layers:\n",
      "The outer core is made of modified liquid iron with adiabatic temperatures and self-consistent pressures\n",
      "The upper mantle is made of olivine with perturbed-adiabatic temperatures and self-consistent pressures\n",
      "The lithospheric mantle is made of olivine with user-defined temperatures and self-consistent pressures\n",
      "The crust is made of plagioclase with user-defined temperatures and self-consistent pressures\n",
      "\n"
     ]
    }
   ],
   "source": [
    "planet_zog = burnman.Planet('Planet_Zog',\n",
    "                            [outer_core,  upper_mantle, lithospheric_mantle, crust],\n",
    "                            verbose=True)\n",
    "print(planet_zog)\n"
   ]
  },
  {
   "cell_type": "markdown",
   "metadata": {},
   "source": [
    "Here we compute its state, this is where all the work gets done. Go BurnMan Go!\n",
    "(If we were to change composition of one of the layers, we would have to\n",
    "recompute the state)"
   ]
  },
  {
   "cell_type": "code",
   "execution_count": 12,
   "metadata": {},
   "outputs": [
    {
     "name": "stdout",
     "output_type": "stream",
     "text": [
      "Iteration 1 maximum relative pressure error: 9.1e-01\n",
      "Iteration 2 maximum relative pressure error: 2.0e-01\n",
      "Iteration 3 maximum relative pressure error: 3.7e-02\n",
      "Iteration 4 maximum relative pressure error: 6.4e-03\n",
      "Iteration 5 maximum relative pressure error: 1.1e-03\n",
      "Iteration 6 maximum relative pressure error: 1.8e-04\n",
      "Iteration 7 maximum relative pressure error: 2.9e-05\n",
      "Iteration 8 maximum relative pressure error: 4.8e-06\n"
     ]
    }
   ],
   "source": [
    "planet_zog.make()\n"
   ]
  },
  {
   "cell_type": "markdown",
   "metadata": {},
   "source": [
    "### Showing results\n",
    "Now we can output the mass of the planet and moment of inertia"
   ]
  },
  {
   "cell_type": "code",
   "execution_count": 13,
   "metadata": {},
   "outputs": [
    {
     "name": "stdout",
     "output_type": "stream",
     "text": [
      "\n",
      "mass/Earth= 1.046, moment of inertia factor= 0.3497 (for Mars: 0.364)\n"
     ]
    }
   ],
   "source": [
    "print('\\nmass/Earth= {0:.3f}, moment of inertia factor= {1:.4f} (for Mars: 0.364)'.format(planet_zog.mass / 6.42e23,\n",
    "                                                                      planet_zog.moment_of_inertia_factor))"
   ]
  },
  {
   "cell_type": "markdown",
   "metadata": {},
   "source": [
    "Or the mass of the individual layers"
   ]
  },
  {
   "cell_type": "code",
   "execution_count": 14,
   "metadata": {},
   "outputs": [
    {
     "name": "stdout",
     "output_type": "stream",
     "text": [
      "outer core mass fraction of planet 0.291\n",
      "upper mantle mass fraction of planet 0.353\n",
      "lithospheric mantle mass fraction of planet 0.328\n",
      "crust mass fraction of planet 0.028\n",
      "\n"
     ]
    }
   ],
   "source": [
    "for layer in planet_zog.layers:\n",
    "    print('{0} mass fraction of planet {1:.3f}'.format(layer.name, layer.mass / planet_zog.mass))\n",
    "print('')"
   ]
  },
  {
   "cell_type": "markdown",
   "metadata": {},
   "source": [
    "Let's get PREM to compare everything to as we are trying\n",
    "to imitate Earth"
   ]
  },
  {
   "cell_type": "code",
   "execution_count": 15,
   "metadata": {},
   "outputs": [
    {
     "name": "stderr",
     "output_type": "stream",
     "text": [
      "No artists with labels found to put in legend.  Note that artists whose label start with an underscore are ignored when legend() is called with no argument.\n"
     ]
    },
    {
     "data": {
      "image/png": "[encoded data removed]",
      "text/plain": [
       "<Figure size 1008x1008 with 6 Axes>"
      ]
     },
     "metadata": {
      "needs_background": "light"
     },
     "output_type": "display_data"
    }
   ],
   "source": [
    "prem = burnman.seismic.PREM()\n",
    "premradii = 6371.e3 - prem.internal_depth_list()\n",
    "premdensity, prempressure, premgravity,premvs,premvp = prem.evaluate(\n",
    "    ['density', 'pressure', 'gravity', 'v_s','v_p'])\n",
    "\n",
    "\n",
    "fig = plt.figure(figsize=(14, 14))\n",
    "ax = [fig.add_subplot(3,2, i) for i in range(1, 7)]\n",
    "\n",
    "\n",
    "bounds = np.array([[layer.radii[0]/1.e3, layer.radii[-1]/1.e3]\n",
    "                   for layer in planet_zog.layers])\n",
    "maxy = [15, 400, 12, 7000, 10, 5]\n",
    "for bound in bounds:\n",
    "    for i in range(6):\n",
    "        ax[i].fill_betweenx([0., maxy[i]],\n",
    "                            [bound[0], bound[0]],\n",
    "                            [bound[1], bound[1]], alpha=0.2)\n",
    "\n",
    "ax[0].plot(planet_zog.radii / 1.e3, planet_zog.density / 1.e3,\n",
    "           label=planet_zog.name)\n",
    "#ax[0].plot(premradii / 1.e3, premdensity / 1.e3, linestyle=':', label='PREM')\n",
    "ax[0].set_ylabel('Density ($10^3$ kg/m$^3$)')\n",
    "ax[0].legend()\n",
    "\n",
    "# Make a subplot showing the calculated pressure profile\n",
    "ax[1].plot(planet_zog.radii / 1.e3, planet_zog.pressure / 1.e9)\n",
    "#ax[1].plot(premradii / 1.e3, prempressure / 1.e9, linestyle=':')\n",
    "ax[1].set_ylabel('Pressure (GPa)')\n",
    "\n",
    "# Make a subplot showing the calculated gravity profile\n",
    "ax[2].plot(planet_zog.radii / 1.e3, planet_zog.gravity)\n",
    "#ax[2].plot(premradii / 1.e3, premgravity, linestyle=':')\n",
    "ax[2].set_ylabel('Gravity (m/s$^2)$')\n",
    "ax[2].set_xlabel('Radius (km)')\n",
    "\n",
    "# Make a subplot showing the calculated temperature profile\n",
    "ax[3].plot(planet_zog.radii / 1.e3, planet_zog.temperature)\n",
    "ax[3].set_ylabel('Temperature (K)')\n",
    "ax[3].set_xlabel('Radius (km)')\n",
    "ax[3].set_ylim(0.,)\n",
    "\n",
    "\n",
    "\n",
    "# Make a subplot showing Vp\n",
    "ax[4].plot(planet_zog.radii / 1.e3, planet_zog.v_p/1.e3)\n",
    "ax[4].set_ylabel('V_P (km/s)')\n",
    "ax[4].set_xlabel('Radius (km)')\n",
    "\n",
    "# Make a subplot showing Vs\n",
    "ax[5].plot(planet_zog.radii / 1.e3, planet_zog.v_s/1.e3)\n",
    "ax[5].set_ylabel('V_S (km/s)')\n",
    "ax[5].set_xlabel('Radius (km)')\n",
    "ax[5].set_ylim(0.,)\n",
    "\n",
    "\n",
    "ax[3].legend()\n",
    "\n",
    "for i in range(2):\n",
    "    ax[i].set_xticklabels([])\n",
    "for i in range(4):\n",
    "    ax[i].set_xlim(0., max(planet_zog.radii) / 1.e3)\n",
    "    ax[i].set_ylim(0., maxy[i])\n",
    "\n",
    "fig.set_tight_layout(True)\n",
    "plt.show()\n",
    "\n",
    "    "
   ]
  },
  {
   "cell_type": "markdown",
   "metadata": {},
   "source": [
    "### Plotting ray paths and predicted travel times\n",
    "\n",
    "First we need to build the correct input file for obspy."
   ]
  },
  {
   "cell_type": "code",
   "execution_count": 16,
   "metadata": {},
   "outputs": [
    {
     "name": "stdout",
     "output_type": "stream",
     "text": [
      "Building obspy.taup model for './Planet_Zog.tvel' ...\n"
     ]
    }
   ],
   "source": [
    "# Write out a tvel file\n",
    "burnman.tools.output_seismo.write_tvel_file(planet_zog, modelname=planet_zog.name)\n",
    "# Build a taup_model for Obspy\n",
    "taup_create.build_taup_model(\n",
    "            \"./\" + planet_zog.name + \".tvel\", \".\")"
   ]
  },
  {
   "cell_type": "markdown",
   "metadata": {},
   "source": [
    "Arrivals to plot, some random examples of phase names to use (\"P\",\"S\", \"PcP\", \"Sdiff\", \"SKS\", \"PKIKP\") <br>\n",
    "Phase naming in obspy.taup is explained at\n",
    "https://docs.obspy.org/packages/obspy.taup.html\n",
    "Here we plot differential times between surface multiples and direct phases. "
   ]
  },
  {
   "cell_type": "code",
   "execution_count": 17,
   "metadata": {},
   "outputs": [
    {
     "name": "stdout",
     "output_type": "stream",
     "text": [
      "ScS phase arrival at 767.603 seconds\n"
     ]
    },
    {
     "data": {
      "image/png": "[encoded data removed]",
      "text/plain": [
       "<Figure size 1008x1008 with 1 Axes>"
      ]
     },
     "metadata": {
      "needs_background": "light"
     },
     "output_type": "display_data"
    },
    {
     "data": {
      "image/png": "[encoded data removed]",
      "text/plain": [
       "<Figure size 432x288 with 1 Axes>"
      ]
     },
     "metadata": {
      "needs_background": "light"
     },
     "output_type": "display_data"
    },
    {
     "name": "stdout",
     "output_type": "stream",
     "text": [
      "[  697.03914275   709.89414372   725.07913913   742.42264153   761.74475471\n",
      "   782.86292328   805.59659558   829.77101551   855.21921422   881.78408898\n",
      "   909.31890597   937.68807117   966.76669779   996.44056405  1026.60556478\n",
      "  1057.1674957 ]\n"
     ]
    },
    {
     "data": {
      "text/plain": [
       "<matplotlib.legend.Legend at 0x7faa4154c400>"
      ]
     },
     "execution_count": 17,
     "metadata": {},
     "output_type": "execute_result"
    },
    {
     "data": {
      "image/png": "[encoded data removed]",
      "text/plain": [
       "<Figure size 432x288 with 1 Axes>"
      ]
     },
     "metadata": {
      "needs_background": "light"
     },
     "output_type": "display_data"
    }
   ],
   "source": [
    "phase_list = [\"P\", \"S\", \"PP\", \"SS\", \"ScS\"]\n",
    "source_depth = 10 # in km\n",
    "min_degrees = 20 # minimum distance for ray paths\n",
    "max_degrees = 90 # maximum distance for ray paths\n",
    "npoints = 16 # number of distances to plot ray paths\n",
    "ref_model = 'prem' # choice of models available in obpsy, or input an npz file name\n",
    "\n",
    "\n",
    "# Time to plot some predictions using routines from Obspy\n",
    "plt.figure(figsize=[14, 14])\n",
    "ax = plt.subplot(2, 2, 1)\n",
    "\n",
    "# Load models\n",
    "taup_planet_zog = TauPyModel(model=planet_zog.name +'.npz')\n",
    "taup_prem = TauPyModel(model=\"PREM\")\n",
    "\n",
    "# plotting predicted travel times at all distances\n",
    "dists = np.linspace(min_degrees, max_degrees, npoints)\n",
    "all_arrvs_zog = dict()\n",
    "all_arrvs_prem = dict()\n",
    "for ph in phase_list: \n",
    "    all_arrvs_zog[ph] =np.empty_like(dists)\n",
    "    all_arrvs_prem[ph] =np.empty_like(dists)\n",
    "for d, dist in enumerate(dists): \n",
    "    for ph in phase_list:\n",
    "        arrs = taup_planet_zog.get_travel_times(source_depth_in_km = source_depth, \n",
    "                                         distance_in_degree=dist, \n",
    "                                         phase_list=[ph])\n",
    "\n",
    "        if len(arrs)>0: \n",
    "            all_arrvs_zog[ph][d]=arrs[0].time\n",
    "            \n",
    "        else:\n",
    "            all_arrvs_zog[ph][d]=np.nan\n",
    "\n",
    "ray = taup_planet_zog.get_ray_paths(source_depth_in_km = source_depth, \n",
    "                                         distance_in_degree=40, \n",
    "                                         phase_list=['ScS'])\n",
    "print(ray[0])\n",
    "ray.plot_rays(plot_type='cartesian', phase_list=['ScS'],\n",
    "                   plot_all=False, legend=True)       \n",
    "plt.plot(all_arrvs_zog['S']-all_arrvs_zog['P'], all_arrvs_zog['PP']-all_arrvs_zog['P'],'r', label = 'PP-P')\n",
    "\n",
    "plt.plot(all_arrvs_zog['S']-all_arrvs_zog['P'], all_arrvs_zog['SS']-all_arrvs_zog['P'],'g', label = 'SS-P')\n",
    "\n",
    "plt.plot(all_arrvs_zog['S']-all_arrvs_zog['P'], all_arrvs_zog['ScS']-all_arrvs_zog['P'],'m', label = 'ScS-P')\n",
    "print(all_arrvs_zog['ScS'])\n",
    "plt.xlabel('S-P times')\n",
    "plt.ylabel('differential times times')\n",
    "\n",
    "\n",
    "#stahler 2021: \n",
    "ts_tp=[167,168,172, 173, 177, 230]\n",
    "tscs_tp= [511,510, 513, 512, 510, 500]\n",
    "tscs_tp_err = [3,10,20,3,5,20]\n",
    "plt.scatter(ts_tp, tscs_tp)\n",
    "plt.errorbar(ts_tp, tscs_tp,fmt='o',yerr= tscs_tp_err,label = 'stahler tscs-tp')\n",
    "\n",
    "\n",
    "#khan 2021: \n",
    "ts_tp_khan=[167,168,173,191,230,356,418]\n",
    "tss_tp_khan=[195,194,197,213,257,397,466]\n",
    "tss_tp_err_khan=[5,5,5,5,5,5,5]\n",
    "plt.scatter(ts_tp_khan, tss_tp_khan)\n",
    "plt.errorbar(ts_tp_khan, tss_tp_khan,fmt='o',yerr= tss_tp_err_khan,label = 'khan tss-tp')\n",
    "\n",
    "ts_tp_khan=[167,168,173,230,418]\n",
    "tpp_tp_khan=[17,22,22,29,55]\n",
    "tpp_tp_err_khan=[5,5,5,8,5]\n",
    "plt.scatter(ts_tp_khan, tpp_tp_khan)\n",
    "plt.errorbar(ts_tp_khan, tpp_tp_khan,fmt='o',yerr= tpp_tp_err_khan,label = 'khan tpp-tp')\n",
    "\n",
    "\n",
    "plt.legend()\n",
    "\n"
   ]
  },
  {
   "cell_type": "code",
   "execution_count": null,
   "metadata": {},
   "outputs": [],
   "source": []
  },
  {
   "cell_type": "code",
   "execution_count": null,
   "metadata": {},
   "outputs": [],
   "source": []
  },
  {
   "cell_type": "code",
   "execution_count": null,
   "metadata": {},
   "outputs": [],
   "source": []
  },
  {
   "cell_type": "code",
   "execution_count": null,
   "metadata": {},
   "outputs": [],
   "source": []
  }
 ],
 "metadata": {
  "kernelspec": {
   "display_name": "Python 3 (ipykernel)",
   "language": "python",
   "name": "python3"
  },
  "language_info": {
   "codemirror_mode": {
    "name": "ipython",
    "version": 3
   },
   "file_extension": ".py",
   "mimetype": "text/x-python",
   "name": "python",
   "nbconvert_exporter": "python",
   "pygments_lexer": "ipython3",
   "version": "3.8.12"
  }
 },
 "nbformat": 4,
 "nbformat_minor": 1
}
