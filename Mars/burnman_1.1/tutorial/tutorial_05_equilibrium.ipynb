{
  "cells": [
    {
      "cell_type": "markdown",
      "metadata": {
        "id": "C30Xe311ePd3"
      },
      "source": [
        "<h1>The BurnMan Tutorial</h1>\n"
      ]
    },
    {
      "cell_type": "markdown",
      "metadata": {},
      "source": [
        "## Part 5: Equilibrium problems\n",
        "This file is part of BurnMan - a thermoelastic and thermodynamic toolkit\n",
        "for the Earth and Planetary Sciences\n",
        "\n",
        "Copyright (C) 2012 - 2021 by the BurnMan team,\n",
        "released under the GNU GPL v2 or later."
      ]
    },
    {
      "cell_type": "markdown",
      "metadata": {
        "id": "13QqqnL6UzBk"
      },
      "source": [
        "### Introduction\n",
        "\n",
        "This ipython notebook is the fifth in a series designed to introduce new users to the code structure and functionalities present in BurnMan.\n",
        "\n",
        "<b>Demonstrates</b>\n",
        "\n",
        "1. burnman.equilibrate, an experimental function that determines the bulk elemental composition, pressure, temperature, phase proportions and compositions of an assemblage subject to user-defined constraints.\n",
        "\n",
        "\n",
        "Everything in BurnMan and in this tutorial is defined in SI units. "
      ]
    },
    {
      "cell_type": "markdown",
      "metadata": {
        "id": "TZYWNOEVNsiW"
      },
      "source": [
        "### Phase equilibria\n",
        "\n",
        "#### What BurnMan does and doesn't do\n",
        "\n",
        "Members of the BurnMan Team are often asked whether BurnMan does Gibbs energy minimization. The short answer to that is no, for three reasons:\n",
        "1) Python is ill-suited to such computationally intensive problems. \n",
        "2) There are many pieces of software already in the community that do Gibbs energy minimization, including but not limited to: PerpleX, HeFESTo, Theriak Domino, MELTS, ENKI, FactSAGE (proprietary), and MMA-EoS.\n",
        "3) Gibbs minimization is a hard problem. The brute-force pseudocompound/simplex technique employed by Perple_X is the only globally robust method, but clever techniques have to be used to make the computations tractable, and the solution found is generally only a (very close) approximation to the true minimum assemblage. More refined Newton / higher order schemes (e.g. HeFESTo, MELTS, ENKI) provide an exact solution, but can get stuck in local minima or even fail to find a solution.\n",
        "\n",
        "So, with those things in mind, what *does* BurnMan do? Well, because BurnMan can compute the Gibbs energy and analytical derivatives of composite materials, it is well suited to solving the equilibrium relations for *fixed assemblages*. This is done using the `burnman.equilibrate` function, which acts in a similar (but slightly more general) way to the THERMOCALC software developed by Tim Holland, Roger Powell and coworkers. Essentially, one chooses an assemblage (e.g. olivine + garnet + orthopyroxene) and some equality constraints (typically related to bulk composition, pressure, temperature, entropy, volume, phase proportions or phase compositions) and the `equilibrate` function attempts to find the remaining unknowns that satisfy those constraints.\n",
        "\n",
        "In a sense, then, the `equilibrate` function is simultaneously more powerful and more limited than Gibbs minimization techniques. It allows the user to investigate and plot metastable reactions, and quickly obtain answers to questions like \"at what pressure does wadsleyite first become stable along a given isentrope?\". However, it is not designed to create P-T tables of equilibrium assemblages. If a user wishes to do this for a complex problem, we refer them to other existing codes. BurnMan also contains a useful utility material called `burnman.PerplexMaterial` that is specifically designed to read in and interrogate P-T data from PerpleX. \n",
        "\n",
        "There are a couple more caveats to bear in mind. Firstly, the `equilibrate` function is experimental and can certainly be improved. Equilibrium problems are highly nonlinear, and sometimes solvers struggle to find a solution. If you have a better, more robust way of solving these problems, we would *love* to hear from you! Secondly, the `equilibrate` function is not completely free from the curse of multiple roots - sometimes there is more than one solution to the equilibrium problem, and BurnMan (and indeed any equilibrium software) may find one a metastable root."
      ]
    },
    {
      "cell_type": "markdown",
      "metadata": {},
      "source": [
        "### Equilibrating at fixed bulk composition\n",
        "\n",
        "Fixed bulk composition problems are most similar to those asked by Gibbs minimization software like HeFESTo. Essentially, the only difference is that rather than allowing the assemblage to change to minimize the Gibbs energy, the assemblage is instead fixed.\n",
        "\n",
        "In the following code block, we calculate the equilibrium assemblage of olivine, orthopyroxene and garnet for a mantle composition in the system NCFMAS at 10 GPa and 1500 K."
      ]
    },
    {
      "cell_type": "code",
      "execution_count": null,
      "metadata": {},
      "outputs": [],
      "source": [
        "import numpy as np\n",
        "import matplotlib.pyplot as plt\n",
        "import burnman\n",
        "from burnman import equilibrate\n",
        "from burnman.minerals import SLB_2011\n",
        "\n",
        "# Set the pressure, temperature and composition\n",
        "pressure = 3.e9\n",
        "temperature = 1500.\n",
        "composition = {'Na': 0.02, 'Fe': 0.2, 'Mg': 2.0, 'Si': 1.9,\n",
        "               'Ca': 0.2, 'Al': 0.4, 'O': 6.81}\n",
        "\n",
        "# Create the assemblage\n",
        "gt = SLB_2011.garnet()\n",
        "ol = SLB_2011.mg_fe_olivine()\n",
        "opx = SLB_2011.orthopyroxene()\n",
        "assemblage = burnman.Composite(phases=[ol, opx, gt],\n",
        "                               fractions=[0.7, 0.1, 0.2],\n",
        "                               name='NCFMAS ol-opx-gt assemblage')\n",
        "\n",
        "# The solver uses the current compositions of each solution as a starting guess,\n",
        "# so we have to set them here\n",
        "ol.set_composition([0.93, 0.07])\n",
        "opx.set_composition([0.8, 0.1, 0.05, 0.05])\n",
        "gt.set_composition([0.8, 0.1, 0.05, 0.03, 0.02])\n",
        "\n",
        "equality_constraints = [('P', 10.e9), ('T', 1500.)]\n",
        "\n",
        "sol, prm = equilibrate(composition, assemblage, equality_constraints)\n",
        "\n",
        "print(f'It is {sol.success} that equilibrate was successful')\n",
        "print(sol.assemblage)\n",
        "\n",
        "# The total entropy of the assemblage is the molar entropy\n",
        "# multiplied by the number of moles in the assemblage\n",
        "entropy = sol.assemblage.S*sol.assemblage.n_moles"
      ]
    },
    {
      "cell_type": "markdown",
      "metadata": {},
      "source": [
        "Each equality constraint can be a list of constraints, in which case equilibrate will loop over them. In the next code block we change the equality constraints to be a series of pressures which correspond to the total entropy obtained from the previous solve."
      ]
    },
    {
      "cell_type": "code",
      "execution_count": null,
      "metadata": {},
      "outputs": [],
      "source": [
        "equality_constraints = [('P', np.linspace(3.e9, 13.e9, 21)),\n",
        "                        ('S', entropy)]\n",
        "\n",
        "sols, prm = equilibrate(composition, assemblage, equality_constraints)"
      ]
    },
    {
      "cell_type": "markdown",
      "metadata": {},
      "source": [
        "The object `sols` is now a 1D list of solution objects. Each one of these contains an equilibrium assemblage object that can be interrogated for any properties:"
      ]
    },
    {
      "cell_type": "code",
      "execution_count": null,
      "metadata": {},
      "outputs": [],
      "source": [
        "data = np.array([[sol.assemblage.pressure,\n",
        "                  sol.assemblage.temperature,\n",
        "                  sol.assemblage.p_wave_velocity,\n",
        "                  sol.assemblage.shear_wave_velocity,\n",
        "                  sol.assemblage.molar_fractions[0],\n",
        "                  sol.assemblage.molar_fractions[1],\n",
        "                  sol.assemblage.molar_fractions[2]]\n",
        "                 for sol in sols if sol.success])"
      ]
    },
    {
      "cell_type": "markdown",
      "metadata": {},
      "source": [
        "The next code block plots these properties."
      ]
    },
    {
      "cell_type": "code",
      "execution_count": null,
      "metadata": {},
      "outputs": [],
      "source": [
        "fig = plt.figure(figsize=(12, 4))\n",
        "ax = [fig.add_subplot(1, 3, i) for i in range(1, 4)]\n",
        "\n",
        "P, T, V_p, V_s = data.T[:4]\n",
        "phase_proportions = data.T[4:]\n",
        "ax[0].plot(P/1.e9, T)\n",
        "ax[1].plot(P/1.e9, V_p/1.e3)\n",
        "ax[1].plot(P/1.e9, V_s/1.e3)\n",
        "\n",
        "for i in range(3):\n",
        "    ax[2].plot(P/1.e9, phase_proportions[i], label=sol.assemblage.phases[i].name)\n",
        "\n",
        "for i in range(3):\n",
        "    ax[i].set_xlabel('Pressure (GPa)')\n",
        "ax[0].set_ylabel('Temperature (K)')\n",
        "ax[1].set_ylabel('Seismic velocities (km/s)')\n",
        "ax[2].set_ylabel('Molar phase proportions')\n",
        "ax[2].legend()\n",
        "\n",
        "plt.show()"
      ]
    },
    {
      "cell_type": "markdown",
      "metadata": {},
      "source": [
        "From the above figure, we can see that the proportion of orthopyroxene is decreasing rapidly and is exhausted near 13 GPa. In the next code block, we determine the exact pressure at which orthopyroxene is exhausted."
      ]
    },
    {
      "cell_type": "code",
      "execution_count": null,
      "metadata": {},
      "outputs": [],
      "source": [
        "equality_constraints = [('phase_fraction', [opx, 0.]),\n",
        "                        ('S', entropy)]\n",
        "sol, prm = equilibrate(composition, assemblage, equality_constraints)\n",
        "\n",
        "print(f'Orthopyroxene is exhausted from the assemblage at {sol.assemblage.pressure/1.e9:.2f} GPa, {sol.assemblage.temperature:.2f} K.')"
      ]
    },
    {
      "cell_type": "markdown",
      "metadata": {
        "id": "zXJ2gfj1Ehmm"
      },
      "source": [
        "### Equilibrating while allowing bulk composition to vary\n"
      ]
    },
    {
      "cell_type": "code",
      "execution_count": null,
      "metadata": {
        "id": "v1kHRS34FB6L"
      },
      "outputs": [],
      "source": [
        "# Initialize the minerals we will use in this example.\n",
        "ol = SLB_2011.mg_fe_olivine()\n",
        "wad = SLB_2011.mg_fe_wadsleyite()\n",
        "rw = SLB_2011.mg_fe_ringwoodite()\n",
        "\n",
        "# Set the starting guess compositions for each of the solutions\n",
        "ol.set_composition([0.90, 0.10])\n",
        "wad.set_composition([0.90, 0.10])\n",
        "rw.set_composition([0.80, 0.20])"
      ]
    },
    {
      "cell_type": "markdown",
      "metadata": {},
      "source": [
        "First, we find the compositions of the three phases at the univariant."
      ]
    },
    {
      "cell_type": "code",
      "execution_count": null,
      "metadata": {},
      "outputs": [],
      "source": [
        "T = 1600.\n",
        "composition = {'Fe': 0.2, 'Mg': 1.8, 'Si': 1.0, 'O': 4.0}\n",
        "assemblage = burnman.Composite([ol, wad, rw], [1., 0., 0.])\n",
        "equality_constraints = [('T', T),\n",
        "                        ('phase_fraction', (ol, 0.0)),\n",
        "                        ('phase_fraction', (rw, 0.0))]\n",
        "free_compositional_vectors = [{'Mg': 1., 'Fe': -1.}]\n",
        "\n",
        "sol, prm = equilibrate(composition, assemblage, equality_constraints,\n",
        "                        free_compositional_vectors,\n",
        "                        verbose=False)\n",
        "if not sol.success:\n",
        "    raise Exception('Could not find solution for the univariant using '\n",
        "                    'provided starting guesses.')\n",
        "\n",
        "P_univariant = sol.assemblage.pressure\n",
        "phase_names = [sol.assemblage.phases[i].name for i in range(3)]\n",
        "x_fe_mbr = [sol.assemblage.phases[i].molar_fractions[1] for i in range(3)]\n",
        "\n",
        "print(f'Univariant pressure at {T:.0f} K: {P_univariant/1.e9:.3f} GPa')\n",
        "print('Fe2SiO4 concentrations at the univariant:')\n",
        "for i in range(3):\n",
        "    print(f'{phase_names[i]}: {x_fe_mbr[i]:.2f}')"
      ]
    },
    {
      "cell_type": "markdown",
      "metadata": {},
      "source": [
        "Now we solve for the stable sections of the three binary loops"
      ]
    },
    {
      "cell_type": "code",
      "execution_count": null,
      "metadata": {},
      "outputs": [],
      "source": [
        "output = []\n",
        "for (m1, m2, x_fe_m1) in [[ol, wad, np.linspace(x_fe_mbr[0], 0.001, 20)],\n",
        "                          [ol, rw, np.linspace(x_fe_mbr[0], 0.999, 20)],\n",
        "                          [wad, rw, np.linspace(x_fe_mbr[1], 0.001, 20)]]:\n",
        "\n",
        "    assemblage = burnman.Composite([m1, m2], [1., 0.])\n",
        "\n",
        "    # Reset the compositions of the two phases to have compositions\n",
        "    # close to those at the univariant point\n",
        "    m1.set_composition([1.-x_fe_mbr[1], x_fe_mbr[1]])\n",
        "    m2.set_composition([1.-x_fe_mbr[1], x_fe_mbr[1]])\n",
        "\n",
        "    # Also set the pressure and temperature\n",
        "    assemblage.set_state(P_univariant, T)\n",
        "\n",
        "    # Here our equality constraints are temperature,\n",
        "    # the phase fraction of the second phase,\n",
        "    # and we loop over the composition of the first phase.\n",
        "    equality_constraints = [('T', T),\n",
        "                            ('phase_composition',\n",
        "                             (m1, [['Mg_A', 'Fe_A'],\n",
        "                                   [0., 1.], [1., 1.], x_fe_m1])),\n",
        "                            ('phase_fraction', (m2, 0.0))]\n",
        "\n",
        "    sols, prm = equilibrate(composition, assemblage,\n",
        "                            equality_constraints,\n",
        "                            free_compositional_vectors,\n",
        "                            verbose=False)\n",
        "\n",
        "    # Process the solutions\n",
        "    out = np.array([[sol.assemblage.pressure,\n",
        "                     sol.assemblage.phases[0].molar_fractions[1],\n",
        "                     sol.assemblage.phases[1].molar_fractions[1]]\n",
        "                    for sol in sols if sol.success])\n",
        "    output.append(out)\n",
        "\n",
        "output = np.array(output)"
      ]
    },
    {
      "cell_type": "markdown",
      "metadata": {},
      "source": [
        "Finally, we do some plotting"
      ]
    },
    {
      "cell_type": "code",
      "execution_count": null,
      "metadata": {},
      "outputs": [],
      "source": [
        "fig = plt.figure()\n",
        "ax = [fig.add_subplot(1, 1, 1)]\n",
        "\n",
        "color='purple'\n",
        "# Plot the line connecting the three phases\n",
        "ax[0].plot([x_fe_mbr[0], x_fe_mbr[2]],\n",
        "            [P_univariant/1.e9, P_univariant/1.e9], color=color)\n",
        "\n",
        "for i in range(3):\n",
        "    if i == 0:\n",
        "        ax[0].plot(output[i,:,1], output[i,:,0]/1.e9, color=color, label=f'{T} K')\n",
        "    else:\n",
        "        ax[0].plot(output[i,:,1], output[i,:,0]/1.e9, color=color)\n",
        "\n",
        "    ax[0].plot(output[i,:,2], output[i,:,0]/1.e9, color=color)\n",
        "    ax[0].fill_betweenx(output[i,:,0]/1.e9, output[i,:,1], output[i,:,2],\n",
        "                        color=color, alpha=0.2)\n",
        "\n",
        "ax[0].text(0.1, 6., 'olivine', horizontalalignment='left')\n",
        "ax[0].text(0.015, 14.2, 'wadsleyite', horizontalalignment='left',\n",
        "        bbox=dict(facecolor='white',\n",
        "                    edgecolor='white',\n",
        "                    boxstyle='round,pad=0.2'))\n",
        "ax[0].text(0.9, 15., 'ringwoodite', horizontalalignment='right')\n",
        "\n",
        "ax[0].set_xlim(0., 1.)\n",
        "ax[0].set_ylim(0.,20.)\n",
        "ax[0].set_xlabel('p(Fe$_2$SiO$_4$)')\n",
        "ax[0].set_ylabel('Pressure (GPa)')\n",
        "ax[0].legend()\n",
        "plt.show()\n"
      ]
    },
    {
      "cell_type": "markdown",
      "metadata": {},
      "source": [
        "And we're done!"
      ]
    }
  ],
  "metadata": {
    "colab": {
      "collapsed_sections": [],
      "name": "BurnMan_1.0_manuscript.ipynb",
      "provenance": []
    },
    "interpreter": {
      "hash": "d0e8ff0504fa29d441371c1f42f91c694e01f5e6e44698edccbd59f7213ffa15"
    },
    "kernelspec": {
      "display_name": "Python 3.9.2 64-bit ('3.9.2': pyenv)",
      "name": "python3"
    },
    "language_info": {
      "codemirror_mode": {
        "name": "ipython",
        "version": 3
      },
      "file_extension": ".py",
      "mimetype": "text/x-python",
      "name": "python",
      "nbconvert_exporter": "python",
      "pygments_lexer": "ipython3",
      "version": "3.9.2"
    }
  },
  "nbformat": 4,
  "nbformat_minor": 0
}
